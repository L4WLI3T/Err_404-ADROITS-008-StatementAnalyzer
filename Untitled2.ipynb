{
 "cells": [
  {
   "cell_type": "code",
   "execution_count": 10,
   "metadata": {},
   "outputs": [
    {
     "name": "stdout",
     "output_type": "stream",
     "text": [
      "You spend too much on lifestyle\n"
     ]
    },
    {
     "data": {
      "image/png": "[encoded data removed]",
      "text/plain": [
       "<Figure size 432x288 with 1 Axes>"
      ]
     },
     "metadata": {},
     "output_type": "display_data"
    },
    {
     "data": {
      "image/png": "[encoded data removed]",
      "text/plain": [
       "<Figure size 432x288 with 1 Axes>"
      ]
     },
     "metadata": {
      "needs_background": "light"
     },
     "output_type": "display_data"
    }
   ],
   "source": [
    "from xlrd import open_workbook\n",
    "book = open_workbook(\"Test4.xlsx\")\n",
    "from matplotlib import pyplot as plt\n",
    "import numpy as np\n",
    "services = ['google', 'internet']\n",
    "lifestyle = ['amazon', 'shoppers', 'fashion' ]\n",
    "food = ['peekey', 'jalpan', 'swiggy', 'cafe', 'pastries', 'zomato', 'ubereats', 'mcdonalds', 'kfc', 'burger', 'bar']\n",
    "payment = ['upi', 'paytm', 'pos']\n",
    "bills = ['billpay', 'electricity']\n",
    "travels = ['uber', 'makemytrip', 'goibibo', 'oyo', 'cabs']\n",
    "electronics = ['apple', 'croma']\n",
    "ls = 0\n",
    "f = 0\n",
    "pmt = 0\n",
    "ser = 0\n",
    "bll = 0\n",
    "tra = 0\n",
    "elec = 0\n",
    "def fun(l):\n",
    "    e = max(l)\n",
    "    if(e == ls):\n",
    "        print(\"You spend too much on lifestyle\")\n",
    "    elif(e == f):\n",
    "        print(\"You spend too much on food\")\n",
    "    elif(e == ser):\n",
    "        print(\"You spend too much on services\")\n",
    "    elif(e == bll):\n",
    "        print(\"You spend too much on bills\")\n",
    "    elif(e == tra):\n",
    "        print(\"You spend too much on travelling\")\n",
    "    elif(e == elec):\n",
    "        print(\"You spend too much on electronics\")\n",
    "    \n",
    "for sh in book.sheets():\n",
    "    for row in range(sh.nrows):\n",
    "        for column in range(sh.ncols):\n",
    "            try:\n",
    "                for i in lifestyle:\n",
    "                    if i in sh.cell(row, column).value.lower():  \n",
    "                        if(sh.cell(row, column + 1).value == \"\"):\n",
    "                            ls += sh.cell(row - 1, column + 1).value\n",
    "                        else:\n",
    "                            ls += sh.cell(row, column + 1).value\n",
    "                for i in food:\n",
    "                    if i in sh.cell(row, column).value.lower():  \n",
    "                        if(sh.cell(row, column + 1).value == \"\"):\n",
    "                            f += sh.cell(row - 1, column + 1).value\n",
    "                        else:\n",
    "                            f += sh.cell(row, column + 1).value\n",
    "                for i in payment:\n",
    "                    if i in sh.cell(row, column).value.lower():  \n",
    "                        if(sh.cell(row, column + 1).value == \"\"):\n",
    "                            pmt += sh.cell(row - 1, column + 1).value\n",
    "                        else:\n",
    "                            pmt += sh.cell(row, column + 1).value\n",
    "                for i in services:\n",
    "                    if i in sh.cell(row, column).value.lower():  \n",
    "                        if(sh.cell(row, column + 1).value == \"\"):\n",
    "                            ser += sh.cell(row - 1, column + 1).value\n",
    "                        else:\n",
    "                            ser += sh.cell(row, column + 1).value\n",
    "                for i in bills:\n",
    "                    if i in sh.cell(row, column).value.lower():  \n",
    "                        if(sh.cell(row, column + 1).value == \"\"):\n",
    "                            bll += sh.cell(row - 1, column + 1).value\n",
    "                        else:\n",
    "                            bll += sh.cell(row, column + 1).value\n",
    "                for i in travels:\n",
    "                    if i in sh.cell(row, column).value.lower():  \n",
    "                        if(sh.cell(row, column + 1).value == \"\"):\n",
    "                            tra += sh.cell(row - 1, column + 1).value\n",
    "                        else:\n",
    "                            tra += sh.cell(row, column + 1).value\n",
    "                for i in electronics:\n",
    "                    if i in sh.cell(row, column).value.lower():  \n",
    "                        if(sh.cell(row, column + 1).value == \"\"):\n",
    "                            elec += sh.cell(row - 1, column + 1).value\n",
    "                        else:\n",
    "                            elec += sh.cell(row, column + 1).value\n",
    "            except (TypeError, AttributeError, IndexError) as e:\n",
    "                pass\n",
    "\n",
    "\n",
    "l = [ls, f, elec, bll, tra, ser]\n",
    "fun(l)\n",
    "\n",
    "fig = plt.figure()\n",
    "ax = fig.add_axes([0,0,1,1])\n",
    "ax.axis('equal')\n",
    "para = ['Lifestyle', 'Food', 'Electronics', 'Bills', 'Travel', 'Services']\n",
    "values = [ls, f, elec, bll, tra, ser]\n",
    "ax.pie(values, labels = para,autopct='%1.2f%%')\n",
    "plt.show()\n",
    "\n",
    "fig1 = plt.figure()\n",
    "ax1 = fig1.add_axes([0,0,1,1])\n",
    "para = ['Lifestyle', 'Food', 'Electronics', 'Bills', 'Travel', 'Services']\n",
    "values = [ls, f, elec, bll, tra, ser]\n",
    "ax1.bar(para, values)\n",
    "plt.show()"
   ]
  },
  {
   "cell_type": "code",
   "execution_count": null,
   "metadata": {},
   "outputs": [],
   "source": []
  }
 ],
 "metadata": {
  "kernelspec": {
   "display_name": "Python 3",
   "language": "python",
   "name": "python3"
  },
  "language_info": {
   "codemirror_mode": {
    "name": "ipython",
    "version": 3
   },
   "file_extension": ".py",
   "mimetype": "text/x-python",
   "name": "python",
   "nbconvert_exporter": "python",
   "pygments_lexer": "ipython3",
   "version": "3.7.3"
  }
 },
 "nbformat": 4,
 "nbformat_minor": 2
}
